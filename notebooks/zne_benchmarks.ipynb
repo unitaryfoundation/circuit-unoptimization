{
 "cells": [
  {
   "cell_type": "markdown",
   "id": "fa7d2c93-c058-4a96-842b-eda823bd0f83",
   "metadata": {},
   "source": [
    "# Benchmarks for Circuit Unoptimization in ZNE"
   ]
  },
  {
   "cell_type": "code",
   "execution_count": 10,
   "id": "06955ebf-e1cc-4e21-a4d1-b1ed338cb0e0",
   "metadata": {},
   "outputs": [],
   "source": [
    "from qiskit_aer import AerSimulator\n",
    "\n",
    "from mitiq import zne\n",
    "\n",
    "from unopt.generator import generate_random_two_qubit_gate_circuit\n",
    "from unopt.noise_models import depolarizing_noise_model"
   ]
  },
  {
   "cell_type": "code",
   "execution_count": 11,
   "id": "af4fbd78-3ad2-42b9-95f9-b65b8ce7caa6",
   "metadata": {},
   "outputs": [],
   "source": [
    "# Hardware/simulator settings:\n",
    "backend = AerSimulator()\n",
    "noise_model = depolarizing_noise_model(error=0.01)\n",
    "# noise_model = amplitude_damping_noise_model()\n",
    "shots = 10_000\n",
    "\n",
    "# ZNE settings:\n",
    "# fold_method = zne.scaling.fold_gates_at_random\n",
    "fold_method = zne.scaling.fold_global\n",
    "extrapolation_method = zne.RichardsonFactory\n",
    "scale_factors_fold = [1, 3, 5]\n",
    "\n",
    "# Circuit unoptimization settings:\n",
    "scale_factors_unopt = [1, 3, 5]\n",
    "elementary_recipe_factors = [0, 3, 5]\n",
    "\n",
    "# Circuit properties:\n",
    "num_qubits = 5\n",
    "depth = 15\n",
    "qc = generate_random_two_qubit_gate_circuit(num_qubits=num_qubits, depth=depth)\n",
    "\n",
    "# Ideal value for random circuit consisting of two-qubits will always be 1.\n",
    "ideal_value = 1"
   ]
  },
  {
   "cell_type": "code",
   "execution_count": null,
   "id": "e12e20d5-2a87-4927-bf88-ed597047164f",
   "metadata": {},
   "outputs": [],
   "source": []
  }
 ],
 "metadata": {
  "kernelspec": {
   "display_name": "Python 3 (ipykernel)",
   "language": "python",
   "name": "python3"
  },
  "language_info": {
   "codemirror_mode": {
    "name": "ipython",
    "version": 3
   },
   "file_extension": ".py",
   "mimetype": "text/x-python",
   "name": "python",
   "nbconvert_exporter": "python",
   "pygments_lexer": "ipython3",
   "version": "3.12.6"
  }
 },
 "nbformat": 4,
 "nbformat_minor": 5
}
