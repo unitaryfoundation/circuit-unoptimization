{
 "cells": [
  {
   "cell_type": "markdown",
   "id": "ae1c822e-57b3-4e40-980a-15ce6d95a170",
   "metadata": {},
   "source": [
    "# Elementary Recipe for Quantum Circuit Unoptimization"
   ]
  },
  {
   "cell_type": "markdown",
   "id": "2842c11a-764b-41c7-a9eb-e34a123a0539",
   "metadata": {},
   "source": [
    "Code that implements the elementary recipe from \"Quantum Circuit Unoptimization\" ([arXiv:2311.03805](https://arxiv.org/pdf/2311.03805))."
   ]
  },
  {
   "cell_type": "markdown",
   "id": "29a7a364-d139-41c4-a719-21287f87fa72",
   "metadata": {},
   "source": [
    "## Preliminaries"
   ]
  },
  {
   "cell_type": "code",
   "execution_count": 1,
   "id": "5035cc30-0255-4ffc-b585-a4fe9d15b7ae",
   "metadata": {},
   "outputs": [],
   "source": [
    "import numpy as np\n",
    "import random\n",
    "\n",
    "from qiskit import QuantumCircuit\n",
    "from qiskit.quantum_info import Operator, random_unitary"
   ]
  },
  {
   "cell_type": "markdown",
   "id": "f17e7967-8c31-4c42-b2e5-c64b5e3772c9",
   "metadata": {},
   "source": [
    "First, we need a way of generating a random circuit consisting of two-qubit gates."
   ]
  },
  {
   "cell_type": "code",
   "execution_count": 2,
   "id": "fac6f654-4105-496e-9234-62931b4f9fec",
   "metadata": {},
   "outputs": [],
   "source": [
    "def random_two_qubit_circuit(num_qubits: int, depth: int) -> QuantumCircuit:\n",
    "    \"\"\"Generate a random quantum circuit with two-qubit gates.\n",
    "\n",
    "    Args:\n",
    "        num_qubits: The number of qubits in the circuit.\n",
    "        depth: The number of layers (depth) of two-qubit gates.\n",
    "\n",
    "    Returns:\n",
    "        The generated random circuit.\n",
    "    \"\"\"\n",
    "    qc = QuantumCircuit(num_qubits)\n",
    "\n",
    "    # Map gate names to their corresponding methods\n",
    "    gate_map = {\n",
    "        \"cx\": qc.cx,\n",
    "        \"cz\": qc.cz,\n",
    "        \"swap\": qc.swap,\n",
    "        \"iswap\": qc.iswap\n",
    "    }\n",
    "\n",
    "    for _ in range(depth):\n",
    "        qubit1, qubit2 = random.sample(range(num_qubits), 2)\n",
    "        gate = random.choice(list(gate_map.keys()))\n",
    "        gate_map[gate](qubit1, qubit2)\n",
    "\n",
    "    return qc"
   ]
  },
  {
   "cell_type": "markdown",
   "id": "d58070df-ffeb-4d60-9e3d-8119202572d5",
   "metadata": {},
   "source": [
    "As an example, here is randomly generated 5-qubit and depth-10 circuit consisting of two-qubit gates "
   ]
  },
  {
   "cell_type": "code",
   "execution_count": 3,
   "id": "89b27a4c-3713-43cb-829d-f68ea4eb6888",
   "metadata": {
    "scrolled": true
   },
   "outputs": [
    {
     "name": "stdout",
     "output_type": "stream",
     "text": [
      "                ┌───┐               \n",
      "q_0: ──■────────┤ X ├────■──■─────■─\n",
      "       │        └─┬─┘    │  │     │ \n",
      "q_1: ──┼──────────┼───■──┼──■──■──┼─\n",
      "       │          │   │  │     │  │ \n",
      "q_2: ──┼──────X───┼───┼──┼──■──┼──┼─\n",
      "     ┌─┴─┐    │   │   │  │  │  │  │ \n",
      "q_3: ┤ X ├─■──X───┼───■──┼──┼──┼──■─\n",
      "     └───┘ │      │      │  │  │    \n",
      "q_4: ──────■──────■──────■──■──■────\n",
      "                                    \n"
     ]
    }
   ],
   "source": [
    "num_qubits = 5\n",
    "depth = 10\n",
    "random_circuit = random_two_qubit_circuit(num_qubits, depth)\n",
    "\n",
    "print(random_circuit)"
   ]
  },
  {
   "cell_type": "markdown",
   "id": "6fbe122f-8dcd-4893-9baa-6943618112f3",
   "metadata": {},
   "source": [
    "## Elementary recipe"
   ]
  },
  {
   "cell_type": "markdown",
   "id": "e960c146-b8a4-469c-ba0f-02b0638c0997",
   "metadata": {},
   "source": [
    "The elementary recipe (ER) for quantum circuit unoptimization is given by Figure-1 in [arXiv:2311.03805](https://arxiv.org/pdf/2311.03805). The ER contains the following steps (applied in the following order):\n",
    "\n",
    "1. Gate insertion\n",
    "2. Gate swapping\n",
    "3. Gate decomposition\n",
    "4. Gate synthesis"
   ]
  },
  {
   "cell_type": "markdown",
   "id": "e8fc8471-1410-45ee-93b1-a9616225ea4c",
   "metadata": {},
   "source": [
    "### Gate insertion"
   ]
  },
  {
   "cell_type": "code",
   "execution_count": 8,
   "id": "9ee91d10-c344-40f5-a38f-d81e1b1b3089",
   "metadata": {},
   "outputs": [],
   "source": [
    "def gate_insert(qc: QuantumCircuit, strategy='default'):\n",
    "    \"\"\"Insert a two-qubit gate A and its Hermitian conjugate A† between two gates B1 and B2.\n",
    "\n",
    "    Args:\n",
    "        qc: The input quantum circuit.\n",
    "        strategy: The strategy used to select the pair of two-qubit gates.\n",
    "\n",
    "    Returns:\n",
    "        new_qc: The modified quantum circuit with A and A† inserted.\n",
    "        B1_info: Information about gate B1 (index, qubits, gate).\n",
    "    \"\"\"\n",
    "    # Collect all two-qubit gates with their indices and qubits\n",
    "    two_qubit_gates = []\n",
    "    for idx, instruction in enumerate(qc.data):\n",
    "        instr = instruction.operation\n",
    "        qargs = instruction.qubits\n",
    "        cargs = instruction.clbits\n",
    "        if len(qargs) == 2:\n",
    "            qubit_indices = [qc.find_bit(qarg).index for qarg in qargs]\n",
    "            two_qubit_gates.append({'index': idx, 'qubits': qubit_indices, 'gate': instr})\n",
    "\n",
    "    # Select a pair of gates based on the specified strategy\n",
    "    found_pair = False\n",
    "    if strategy == 'default':\n",
    "        # Find a pair of gates that share a common qubit\n",
    "        for i in range(len(two_qubit_gates)):\n",
    "            for j in range(i+1, len(two_qubit_gates)):\n",
    "                qubits_i = set(two_qubit_gates[i]['qubits'])\n",
    "                qubits_j = set(two_qubit_gates[j]['qubits'])\n",
    "                common_qubits = qubits_i & qubits_j\n",
    "                if len(common_qubits) == 1:\n",
    "                    B1_idx = two_qubit_gates[i]['index']\n",
    "                    B2_idx = two_qubit_gates[j]['index']\n",
    "                    B1_qubits = two_qubit_gates[i]['qubits']\n",
    "                    B2_qubits = two_qubit_gates[j]['qubits']\n",
    "                    B1_gate = two_qubit_gates[i]['gate']\n",
    "                    shared_qubit = list(common_qubits)[0]\n",
    "                    found_pair = True\n",
    "                    break\n",
    "            if found_pair:\n",
    "                break\n",
    "    else:\n",
    "        # Implement other strategies here\n",
    "        pass\n",
    "\n",
    "    if not found_pair:\n",
    "        raise ValueError(\"No pair of two-qubit gates sharing a common qubit found.\")\n",
    "\n",
    "    # Generate a random two-qubit unitary A and its adjoint A†\n",
    "    A = random_unitary(4)\n",
    "    A_dag = A.adjoint()\n",
    "\n",
    "    # Choose qubits for A and A† insertion\n",
    "    all_qubits = set(range(qc.num_qubits))\n",
    "    other_qubits = list(all_qubits - set(B1_qubits))\n",
    "    if not other_qubits:\n",
    "        raise ValueError(\"Not enough qubits to perform the operation.\")\n",
    "    third_qubit = other_qubits[0]\n",
    "    shared_qubit = shared_qubit\n",
    "\n",
    "    # Map indices back to qubits\n",
    "    qubit_map = {qc.find_bit(q).index: q for q in qc.qubits}\n",
    "\n",
    "    # Create a new circuit and insert A and A†\n",
    "    new_qc = QuantumCircuit(qc.num_qubits)\n",
    "\n",
    "    # Copy the gates up to and including B1\n",
    "    for instruction in qc.data[:B1_idx+1]:\n",
    "        instr = instruction.operation\n",
    "        qargs = instruction.qubits\n",
    "        cargs = instruction.clbits\n",
    "        new_qc.append(instr, qargs, cargs)\n",
    "\n",
    "    # Insert A on qubits [shared_qubit, third_qubit]\n",
    "    qubits_for_A = [qubit_map[shared_qubit], qubit_map[third_qubit]]\n",
    "    new_qc.unitary(A, qubits_for_A, label=\"A\")\n",
    "\n",
    "    # Insert A† on the same qubits\n",
    "    new_qc.unitary(A_dag, qubits_for_A, label=r\"$A^{\\dagger}$\")\n",
    "\n",
    "    # Copy the remaining gates\n",
    "    for instruction in qc.data[B1_idx+1:]:\n",
    "        instr = instruction.operation\n",
    "        qargs = instruction.qubits\n",
    "        cargs = instruction.clbits\n",
    "        new_qc.append(instr, qargs, cargs)\n",
    "\n",
    "    # Prepare B1_info for gate_swap function\n",
    "    B1_info = {\n",
    "        'index': B1_idx,\n",
    "        'qubits': B1_qubits,\n",
    "        'gate': B1_gate,\n",
    "        'shared_qubit': shared_qubit,\n",
    "        'third_qubit': third_qubit,\n",
    "        'A': A,\n",
    "        'A_dag': A_dag\n",
    "    }\n",
    "\n",
    "    return new_qc, B1_info"
   ]
  },
  {
   "cell_type": "code",
   "execution_count": 9,
   "id": "f787b6ef-3fc8-460b-8b82-1c13869566cd",
   "metadata": {},
   "outputs": [
    {
     "name": "stdout",
     "output_type": "stream",
     "text": [
      "                                                       \n",
      "q_0: ─■──────────────────────────■─────■───────────────\n",
      "      │ ┌────┐┌────────────────┐ │   ┌─┴─┐   ┌────────┐\n",
      "q_1: ─┼─┤1   ├┤1               ├─┼───┤ X ├───┤1       ├\n",
      "      │ │  A ││  $A^{\\dagger}$ │ │ ┌─┴───┴──┐│  Iswap │\n",
      "q_2: ─■─┤0   ├┤0               ├─■─┤0       ├┤0       ├\n",
      "        └────┘└────────────────┘   │  Iswap │└────────┘\n",
      "q_3: ──────────────────────────────┤1       ├──────────\n",
      "                                   └────────┘          \n",
      "{'index': 0, 'qubits': [2, 0], 'gate': Instruction(name='cz', num_qubits=2, num_clbits=0, params=[]), 'shared_qubit': 2, 'third_qubit': 1, 'A': Operator([[ 0.12974272-0.16652157j, -0.49347312-0.44200248j,\n",
      "            0.19943261+0.49862718j,  0.03843168+0.47610509j],\n",
      "          [ 0.66574541-0.05607j   , -0.24204974+0.42606116j,\n",
      "            0.08947255+0.12836775j, -0.50382415-0.18761829j],\n",
      "          [-0.47733652+0.05902384j, -0.43091516-0.06845355j,\n",
      "           -0.00453582-0.40275915j, -0.63460408+0.11547481j],\n",
      "          [ 0.39045569+0.35395902j,  0.20361016-0.29861519j,\n",
      "            0.52253165-0.50183575j, -0.0050532 +0.25831232j]],\n",
      "         input_dims=(2, 2), output_dims=(2, 2)), 'A_dag': Operator([[ 0.12974272+0.16652157j,  0.66574541+0.05607j   ,\n",
      "           -0.47733652-0.05902384j,  0.39045569-0.35395902j],\n",
      "          [-0.49347312+0.44200248j, -0.24204974-0.42606116j,\n",
      "           -0.43091516+0.06845355j,  0.20361016+0.29861519j],\n",
      "          [ 0.19943261-0.49862718j,  0.08947255-0.12836775j,\n",
      "           -0.00453582+0.40275915j,  0.52253165+0.50183575j],\n",
      "          [ 0.03843168-0.47610509j, -0.50382415+0.18761829j,\n",
      "           -0.63460408-0.11547481j, -0.0050532 -0.25831232j]],\n",
      "         input_dims=(2, 2), output_dims=(2, 2))}\n"
     ]
    },
    {
     "data": {
      "image/png": "[encoded data removed]",
      "text/plain": [
       "<Figure size 789.163x367.889 with 1 Axes>"
      ]
     },
     "execution_count": 9,
     "metadata": {},
     "output_type": "execute_result"
    }
   ],
   "source": [
    "# Generate a random two-qubit circuit\n",
    "qc = random_two_qubit_circuit(4, 5)\n",
    "\n",
    "# Perform gate insertion\n",
    "inserted_qc, B1_info = gate_insert(qc)\n",
    "\n",
    "print(inserted_qc)\n",
    "print(B1_info)\n",
    "\n",
    "inserted_qc.draw(\"mpl\")"
   ]
  },
  {
   "cell_type": "markdown",
   "id": "14c6a85e-fd78-462f-b57f-b6d822993dee",
   "metadata": {},
   "source": [
    "### Gate swapping"
   ]
  },
  {
   "cell_type": "code",
   "execution_count": 20,
   "id": "f64f5f5f-a2a1-4b09-8892-9b3a16bcd09c",
   "metadata": {},
   "outputs": [],
   "source": [
    "def gate_swap(qc: QuantumCircuit, B1_info):\n",
    "    \"\"\"Perform gate swapping by replacing A† with a three-qubit unitary.\n",
    "\n",
    "    Args:\n",
    "        qc: The quantum circuit returned by gate_insert.\n",
    "        B1_info: Information about gate B1 and the inserted gates.\n",
    "\n",
    "    Returns:\n",
    "        new_qc: The modified quantum circuit after gate swapping.\n",
    "    \"\"\"\n",
    "    B1_idx = B1_info['index']\n",
    "    B1_qubits = B1_info['qubits']\n",
    "    B1_gate = B1_info['gate']\n",
    "    shared_qubit = B1_info['shared_qubit']\n",
    "    third_qubit = B1_info['third_qubit']\n",
    "    A_dag = B1_info['A_dag']\n",
    "\n",
    "    # Map indices back to qubits\n",
    "    qubit_map = {qc.find_bit(q).index: q for q in qc.qubits}\n",
    "    q1 = qubit_map[B1_qubits[0]]\n",
    "    q2 = qubit_map[B1_qubits[1]]\n",
    "    q3 = qubit_map[third_qubit]\n",
    "\n",
    "    # Get the unitary matrix of B1\n",
    "    B1_operator = Operator(B1_gate)\n",
    "    U_B1 = B1_operator.data\n",
    "\n",
    "    # Compute the three-qubit unitary \\widetilde{A^\\dagger}\n",
    "    I = np.eye(2)  # Identity for a single qubit\n",
    "\n",
    "    # Compute B1 ⊗ I\n",
    "    B1_tensor_I = np.kron(U_B1, I)\n",
    "\n",
    "    # Compute (B1 ⊗ I)^\\dagger\n",
    "    B1_tensor_I_dag = B1_tensor_I.conj().T\n",
    "\n",
    "    # Compute I ⊗ A^\\dagger\n",
    "    I_tensor_A_dag = np.kron(I, A_dag.data)\n",
    "\n",
    "    # Compute \\widetilde{A^\\dagger}\n",
    "    A_dag_tilde_data = B1_tensor_I_dag @ I_tensor_A_dag @ B1_tensor_I\n",
    "    A_dag_tilde = Operator(A_dag_tilde_data)\n",
    "\n",
    "    # Create a new circuit\n",
    "    new_qc = QuantumCircuit(qc.num_qubits)\n",
    "\n",
    "    # Copy the gates up to the insertion point of A†\n",
    "    insertion_point = B1_idx + 2  # B1 and A have been inserted before A†\n",
    "    for instruction in qc.data[:insertion_point]:\n",
    "        instr = instruction.operation\n",
    "        qargs = instruction.qubits\n",
    "        cargs = instruction.clbits\n",
    "        new_qc.append(instr, qargs, cargs)\n",
    "\n",
    "    # Replace A† with \\widetilde{A^\\dagger} on qubits [q1, q2, q3]\n",
    "    qubits_for_A_dag_tilde = [q1, q2, q3]\n",
    "    new_qc.unitary(A_dag_tilde, qubits_for_A_dag_tilde, label=\"A_dag_tilde\")\n",
    "\n",
    "    # Copy the remaining gates, skipping the original A†\n",
    "    for instruction in qc.data[insertion_point+1:]:\n",
    "        instr = instruction.operation\n",
    "        qargs = instruction.qubits\n",
    "        cargs = instruction.clbits\n",
    "        new_qc.append(instr, qargs, cargs)\n",
    "\n",
    "    return new_qc"
   ]
  },
  {
   "cell_type": "code",
   "execution_count": 21,
   "id": "8b233d50-889a-4bec-97c9-e686b9f35b8c",
   "metadata": {},
   "outputs": [
    {
     "name": "stdout",
     "output_type": "stream",
     "text": [
      "        ┌────┐┌─────┐                \n",
      "q_0: ───┤1   ├┤1    ├─■──■─────■─────\n",
      "        │  A ││  A† │ │  │   ┌─┴─┐   \n",
      "q_1: ─■─┤0   ├┤0    ├─■──┼───┤ X ├───\n",
      "      │ └────┘└─────┘    │ ┌─┴───┴──┐\n",
      "q_2: ─■──────────────────■─┤1       ├\n",
      "                           │  Iswap │\n",
      "q_3: ──────────────────────┤0       ├\n",
      "                           └────────┘\n",
      "        ┌────┐┌──────────────┐                \n",
      "q_0: ───┤1   ├┤2             ├─■──■─────■─────\n",
      "        │  A ││              │ │  │   ┌─┴─┐   \n",
      "q_1: ─■─┤0   ├┤0 A_dag_tilde ├─■──┼───┤ X ├───\n",
      "      │ └────┘│              │    │ ┌─┴───┴──┐\n",
      "q_2: ─■───────┤1             ├────■─┤1       ├\n",
      "              └──────────────┘      │  Iswap │\n",
      "q_3: ───────────────────────────────┤0       ├\n",
      "                                    └────────┘\n"
     ]
    }
   ],
   "source": [
    "# Generate a random two-qubit circuit\n",
    "qc = random_two_qubit_circuit(4, 5)\n",
    "\n",
    "# Perform gate insertion\n",
    "inserted_qc, B1_info = gate_insert(qc)\n",
    "\n",
    "print(inserted_qc)\n",
    "\n",
    "# Perform gate swapping\n",
    "final_qc = gate_swap(inserted_qc, B1_info)\n",
    "\n",
    "# Print the final circuit\n",
    "print(final_qc)"
   ]
  },
  {
   "cell_type": "markdown",
   "id": "b1b1aa4e-823f-4690-a984-663613837f83",
   "metadata": {},
   "source": [
    "### Gate decomposition"
   ]
  },
  {
   "cell_type": "code",
   "execution_count": null,
   "id": "f0e654c6-d415-408c-8b53-1958fb73296e",
   "metadata": {},
   "outputs": [],
   "source": [
    "def gate_decompose():\n",
    "    pass"
   ]
  },
  {
   "cell_type": "markdown",
   "id": "a100a7ca-40a2-41bb-b66a-aa4f850d6136",
   "metadata": {},
   "source": [
    "### Gate synthesis"
   ]
  },
  {
   "cell_type": "code",
   "execution_count": null,
   "id": "944e533c-354f-45cf-8127-5c29ee91fded",
   "metadata": {},
   "outputs": [],
   "source": [
    "def gate_synthesize():\n",
    "    pass"
   ]
  }
 ],
 "metadata": {
  "kernelspec": {
   "display_name": "Python 3 (ipykernel)",
   "language": "python",
   "name": "python3"
  },
  "language_info": {
   "codemirror_mode": {
    "name": "ipython",
    "version": 3
   },
   "file_extension": ".py",
   "mimetype": "text/x-python",
   "name": "python",
   "nbconvert_exporter": "python",
   "pygments_lexer": "ipython3",
   "version": "3.12.5"
  }
 },
 "nbformat": 4,
 "nbformat_minor": 5
}
