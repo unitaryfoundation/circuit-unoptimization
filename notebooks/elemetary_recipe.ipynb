{
 "cells": [
  {
   "cell_type": "markdown",
   "id": "ae1c822e-57b3-4e40-980a-15ce6d95a170",
   "metadata": {},
   "source": [
    "# Elementary Recipe for Quantum Circuit Unoptimization"
   ]
  },
  {
   "cell_type": "markdown",
   "id": "29a7a364-d139-41c4-a719-21287f87fa72",
   "metadata": {},
   "source": [
    "## Preliminaries"
   ]
  },
  {
   "cell_type": "code",
   "execution_count": 1,
   "id": "5035cc30-0255-4ffc-b585-a4fe9d15b7ae",
   "metadata": {},
   "outputs": [],
   "source": [
    "import numpy as np\n",
    "import random\n",
    "\n",
    "from qiskit import QuantumCircuit\n",
    "from qiskit.quantum_info import Operator, random_unitary"
   ]
  },
  {
   "cell_type": "markdown",
   "id": "f17e7967-8c31-4c42-b2e5-c64b5e3772c9",
   "metadata": {},
   "source": [
    "First, we need a way of generating a random circuit consisting of two-qubit gates."
   ]
  },
  {
   "cell_type": "code",
   "execution_count": 2,
   "id": "fac6f654-4105-496e-9234-62931b4f9fec",
   "metadata": {},
   "outputs": [],
   "source": [
    "def random_two_qubit_circuit(num_qubits: int, depth: int) -> QuantumCircuit:\n",
    "    \"\"\"Generate a random quantum circuit with two-qubit gates.\n",
    "\n",
    "    Args:\n",
    "        num_qubits: The number of qubits in the circuit.\n",
    "        depth: The number of layers (depth) of two-qubit gates.\n",
    "\n",
    "    Returns:\n",
    "        The generated random circuit.\n",
    "    \"\"\"\n",
    "    qc = QuantumCircuit(num_qubits)\n",
    "\n",
    "    # Map gate names to their corresponding methods\n",
    "    gate_map = {\n",
    "        \"cx\": qc.cx,\n",
    "        \"cz\": qc.cz,\n",
    "        \"swap\": qc.swap,\n",
    "        \"iswap\": qc.iswap\n",
    "    }\n",
    "\n",
    "    for _ in range(depth):\n",
    "        qubit1, qubit2 = random.sample(range(num_qubits), 2)\n",
    "        gate = random.choice(list(gate_map.keys()))\n",
    "        gate_map[gate](qubit1, qubit2)\n",
    "\n",
    "    return qc"
   ]
  },
  {
   "cell_type": "markdown",
   "id": "d58070df-ffeb-4d60-9e3d-8119202572d5",
   "metadata": {},
   "source": [
    "As an example, here is randomly generated 5-qubit and depth-10 circuit consisting of two-qubit gates "
   ]
  },
  {
   "cell_type": "code",
   "execution_count": 3,
   "id": "89b27a4c-3713-43cb-829d-f68ea4eb6888",
   "metadata": {
    "scrolled": true
   },
   "outputs": [
    {
     "name": "stdout",
     "output_type": "stream",
     "text": [
      "                                    ┌───┐   ┌────────┐\n",
      "q_0: ────────────■──────────────────┤ X ├───┤1       ├\n",
      "     ┌────────┐  │                  └─┬─┘   │        │\n",
      "q_1: ┤0       ├──■─────────────■──■───┼───X─┤  Iswap ├\n",
      "     │        │     ┌────────┐ │  │   │   │ │        │\n",
      "q_2: ┤  Iswap ├──■──┤1       ├─■──┼───┼───┼─┤0       ├\n",
      "     │        │┌─┴─┐│  Iswap │    │   │   │ └────────┘\n",
      "q_3: ┤1       ├┤ X ├┤0       ├─■──┼───■───┼───────────\n",
      "     └────────┘└───┘└────────┘ │  │       │           \n",
      "q_4: ──────────────────────────■──■───────X───────────\n",
      "                                                      \n"
     ]
    }
   ],
   "source": [
    "num_qubits = 5\n",
    "depth = 10\n",
    "random_circuit = random_two_qubit_circuit(num_qubits, depth)\n",
    "\n",
    "print(random_circuit)"
   ]
  },
  {
   "cell_type": "markdown",
   "id": "6fbe122f-8dcd-4893-9baa-6943618112f3",
   "metadata": {},
   "source": [
    "## Elementary recipe"
   ]
  },
  {
   "cell_type": "markdown",
   "id": "e960c146-b8a4-469c-ba0f-02b0638c0997",
   "metadata": {},
   "source": [
    "The elementary recipe (ER) for quantum circuit unoptimization is given by Figure-1 in [arXiv:2311.03805](https://arxiv.org/pdf/2311.03805). The ER contains the following steps (applied in the following order):\n",
    "\n",
    "1. Gate insertion\n",
    "2. Gate swapping\n",
    "3. Gate decomposition\n",
    "4. Gate synthesis"
   ]
  },
  {
   "cell_type": "markdown",
   "id": "e8fc8471-1410-45ee-93b1-a9616225ea4c",
   "metadata": {},
   "source": [
    "### Gate insertion"
   ]
  },
  {
   "cell_type": "code",
   "execution_count": 4,
   "id": "9ee91d10-c344-40f5-a38f-d81e1b1b3089",
   "metadata": {},
   "outputs": [],
   "source": [
    "def gate_insert(qc: QuantumCircuit) -> QuantumCircuit:\n",
    "    \"\"\"Insert a two-qubit gate A and its Hermitian conjugate A† between two gates B1 and B2 that share a common qubit.\n",
    "\n",
    "    Args:\n",
    "        qc: The input quantum circuit.\n",
    "\n",
    "    Returns:\n",
    "        The modified quantum circuit with A and A† inserted.\n",
    "    \"\"\"\n",
    "    # Collect all two-qubit gates with their indices and qubits\n",
    "    two_qubit_gates = []\n",
    "    for idx, instruction in enumerate(qc.data):\n",
    "        instr = instruction.operation\n",
    "        qargs = instruction.qubits\n",
    "        cargs = instruction.clbits\n",
    "        if len(qargs) == 2:\n",
    "            qubit_indices = [qc.find_bit(qarg).index for qarg in qargs]\n",
    "            two_qubit_gates.append({'index': idx, 'qubits': qubit_indices})\n",
    "\n",
    "    # Find a pair of gates that share a common qubit\n",
    "    found_pair = False\n",
    "    for i in range(len(two_qubit_gates)):\n",
    "        for j in range(i+1, len(two_qubit_gates)):\n",
    "            qubits_i = set(two_qubit_gates[i]['qubits'])\n",
    "            qubits_j = set(two_qubit_gates[j]['qubits'])\n",
    "            common_qubits = qubits_i & qubits_j\n",
    "            if len(common_qubits) == 1:\n",
    "                B1_idx = two_qubit_gates[i]['index']\n",
    "                B2_idx = two_qubit_gates[j]['index']\n",
    "                B1_qubits = two_qubit_gates[i]['qubits']\n",
    "                B2_qubits = two_qubit_gates[j]['qubits']\n",
    "                shared_qubit = list(common_qubits)[0]\n",
    "                found_pair = True\n",
    "                break\n",
    "        if found_pair:\n",
    "            break\n",
    "\n",
    "    if not found_pair:\n",
    "        raise ValueError(\"No pair of two-qubit gates sharing a common qubit found.\")\n",
    "\n",
    "    # Create a new circuit\n",
    "    new_qc = QuantumCircuit(qc.num_qubits)\n",
    "\n",
    "    # Copy the gates up to and including B1\n",
    "    for instruction in qc.data[:B1_idx+1]:\n",
    "        instr = instruction.operation\n",
    "        qargs = instruction.qubits\n",
    "        cargs = instruction.clbits\n",
    "        new_qc.append(instr, qargs, cargs)\n",
    "\n",
    "    # Generate a random two-qubit unitary A\n",
    "    A = random_unitary(4)\n",
    "    A_dag = A.adjoint()\n",
    "\n",
    "    # Decide on which qubits to apply A and A†\n",
    "    # Choose the shared qubit and one of the other qubits\n",
    "    other_qubits = list((set(B1_qubits + B2_qubits) - {shared_qubit}))\n",
    "    target_qubit = other_qubits[0]  # Choose one of the other qubits\n",
    "\n",
    "    # Map indices back to qubits\n",
    "    qubit_map = {qc.find_bit(q).index: q for q in qc.qubits}\n",
    "    qubits_for_A = [qubit_map[shared_qubit], qubit_map[target_qubit]]\n",
    "\n",
    "    # Insert A and A†\n",
    "    new_qc.unitary(A, qubits_for_A, label='A')\n",
    "    new_qc.unitary(A_dag, qubits_for_A, label='A†')\n",
    "\n",
    "    # Copy the remaining gates\n",
    "    for instruction in qc.data[B1_idx+1:]:\n",
    "        instr = instruction.operation\n",
    "        qargs = instruction.qubits\n",
    "        cargs = instruction.clbits\n",
    "        new_qc.append(instr, qargs, cargs)\n",
    "\n",
    "    return new_qc"
   ]
  },
  {
   "cell_type": "code",
   "execution_count": 5,
   "id": "f787b6ef-3fc8-460b-8b82-1c13869566cd",
   "metadata": {},
   "outputs": [
    {
     "name": "stdout",
     "output_type": "stream",
     "text": [
      "                                       \n",
      "q_0: ────────────■────────────────X────\n",
      "     ┌────────┐  │  ┌────┐┌─────┐ │    \n",
      "q_1: ┤0       ├──┼──┤1   ├┤1    ├─X────\n",
      "     │        │┌─┴─┐│    ││     │      \n",
      "q_2: ┤  Iswap ├┤ X ├┤  A ├┤  A† ├─■──■─\n",
      "     │        │└───┘│    ││     │ │  │ \n",
      "q_3: ┤1       ├─────┤0   ├┤0    ├─■──■─\n",
      "     └────────┘     └────┘└─────┘      \n"
     ]
    }
   ],
   "source": [
    "# Example usage\n",
    "qc = random_two_qubit_circuit(4, 5)\n",
    "new_qc = gate_insert(qc)\n",
    "print(new_qc)"
   ]
  },
  {
   "cell_type": "markdown",
   "id": "14c6a85e-fd78-462f-b57f-b6d822993dee",
   "metadata": {},
   "source": [
    "### Gate swapping"
   ]
  },
  {
   "cell_type": "code",
   "execution_count": null,
   "id": "f64f5f5f-a2a1-4b09-8892-9b3a16bcd09c",
   "metadata": {},
   "outputs": [],
   "source": [
    "def gate_swap():\n",
    "    pass"
   ]
  },
  {
   "cell_type": "markdown",
   "id": "b1b1aa4e-823f-4690-a984-663613837f83",
   "metadata": {},
   "source": [
    "### Gate decomposition"
   ]
  },
  {
   "cell_type": "code",
   "execution_count": null,
   "id": "f0e654c6-d415-408c-8b53-1958fb73296e",
   "metadata": {},
   "outputs": [],
   "source": [
    "def gate_decompose():\n",
    "    pass"
   ]
  },
  {
   "cell_type": "markdown",
   "id": "a100a7ca-40a2-41bb-b66a-aa4f850d6136",
   "metadata": {},
   "source": [
    "### Gate synthesis"
   ]
  },
  {
   "cell_type": "code",
   "execution_count": null,
   "id": "944e533c-354f-45cf-8127-5c29ee91fded",
   "metadata": {},
   "outputs": [],
   "source": [
    "def gate_synthesize():\n",
    "    pass"
   ]
  }
 ],
 "metadata": {
  "kernelspec": {
   "display_name": "Python 3 (ipykernel)",
   "language": "python",
   "name": "python3"
  },
  "language_info": {
   "codemirror_mode": {
    "name": "ipython",
    "version": 3
   },
   "file_extension": ".py",
   "mimetype": "text/x-python",
   "name": "python",
   "nbconvert_exporter": "python",
   "pygments_lexer": "ipython3",
   "version": "3.12.5"
  }
 },
 "nbformat": 4,
 "nbformat_minor": 5
}
